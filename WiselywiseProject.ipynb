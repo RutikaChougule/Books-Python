{
  "nbformat": 4,
  "nbformat_minor": 0,
  "metadata": {
    "colab": {
      "provenance": [],
      "authorship_tag": "ABX9TyOoMApFCSBS4zWBtb76nyA1",
      "include_colab_link": true
    },
    "kernelspec": {
      "name": "python3",
      "display_name": "Python 3"
    },
    "language_info": {
      "name": "python"
    }
  },
  "cells": [
    {
      "cell_type": "markdown",
      "metadata": {
        "id": "view-in-github",
        "colab_type": "text"
      },
      "source": [
        "<a href=\"https://colab.research.google.com/github/RutikaChougule/Books-Python/blob/main/WiselywiseProject.ipynb\" target=\"_parent\"><img src=\"https://colab.research.google.com/assets/colab-badge.svg\" alt=\"Open In Colab\"/></a>"
      ]
    },
    {
      "cell_type": "code",
      "execution_count": 1,
      "metadata": {
        "id": "BJTxKfHKGMAP"
      },
      "outputs": [],
      "source": [
        "import pandas as pd\n"
      ]
    },
    {
      "cell_type": "code",
      "source": [
        "df=pd.read_csv('/fruit.csv',header=None,encoding='utf-8')"
      ],
      "metadata": {
        "id": "hN_nS3dSHSVX"
      },
      "execution_count": 12,
      "outputs": []
    },
    {
      "cell_type": "markdown",
      "source": [
        "features=df.iloc[:,:5]\n",
        "label=df.iloc[:,5]\n",
        "print(features)\n",
        "print(label)"
      ],
      "metadata": {
        "id": "8E453ptSIfsg"
      }
    },
    {
      "cell_type": "code",
      "source": [
        "features=df.iloc[:,:5]\n",
        "label=df.iloc[:,5]\n",
        "print(features)\n",
        "print(label)"
      ],
      "metadata": {
        "colab": {
          "base_uri": "https://localhost:8080/"
        },
        "id": "ejsVqEqMKVU4",
        "outputId": "13878576-e740-4615-80b4-cf8d63416ee9"
      },
      "execution_count": 13,
      "outputs": [
        {
          "output_type": "stream",
          "name": "stdout",
          "text": [
            "    0    1    2     3     4\n",
            "0   1  192  8.4   7.3  0.55\n",
            "1   1  180  8.0   6.8  0.59\n",
            "2   1  176  7.4   7.2  0.60\n",
            "3   2   86  6.2   4.7  0.80\n",
            "4   2   84  6.0   4.6  0.79\n",
            "5   2   80  5.8   4.3  0.77\n",
            "6   2   80  5.9   4.3  0.81\n",
            "7   2   76  5.8   4.0  0.81\n",
            "8   1  178  7.1   7.8  0.92\n",
            "9   1  172  7.4   7.0  0.89\n",
            "10  1  166  6.9   7.3  0.93\n",
            "11  1  172  7.1   7.6  0.92\n",
            "12  1  154  7.0   7.1  0.88\n",
            "13  1  164  7.3   7.7  0.70\n",
            "14  1  152  7.6   7.3  0.69\n",
            "15  1  156  7.7   7.1  0.69\n",
            "16  1  156  7.6   7.5  0.67\n",
            "17  1  168  7.5   7.6  0.73\n",
            "18  1  162  7.5   7.1  0.83\n",
            "19  1  162  7.4   7.2  0.85\n",
            "20  1  160  7.5   7.5  0.86\n",
            "21  1  156  7.4   7.4  0.84\n",
            "22  1  140  7.3   7.1  0.87\n",
            "23  1  170  7.6   7.9  0.88\n",
            "24  3  342  9.0   9.4  0.75\n",
            "25  3  356  9.2   9.2  0.75\n",
            "26  3  362  9.6   9.2  0.74\n",
            "27  3  204  7.5   9.2  0.77\n",
            "28  3  140  6.7   7.1  0.72\n",
            "29  3  160  7.0   7.4  0.81\n",
            "30  3  158  7.1   7.5  0.79\n",
            "31  3  210  7.8   8.0  0.82\n",
            "32  3  164  7.2   7.0  0.80\n",
            "33  3  190  7.5   8.1  0.74\n",
            "34  3  142  7.6   7.8  0.75\n",
            "35  3  150  7.1   7.9  0.75\n",
            "36  3  160  7.1   7.6  0.76\n",
            "37  3  154  7.3   7.3  0.79\n",
            "38  3  158  7.2   7.8  0.77\n",
            "39  3  144  6.8   7.4  0.75\n",
            "40  3  154  7.1   7.5  0.78\n",
            "41  3  180  7.6   8.2  0.79\n",
            "42  3  154  7.2   7.2  0.82\n",
            "43  4  194  7.2  10.3  0.70\n",
            "44  4  200  7.3  10.5  0.72\n",
            "45  4  186  7.2   9.2  0.72\n",
            "46  4  216  7.3  10.2  0.71\n",
            "47  4  196  7.3   9.7  0.72\n",
            "48  4  174  7.3  10.1  0.72\n",
            "49  4  132  5.8   8.7  0.73\n",
            "50  4  130  6.0   8.2  0.71\n",
            "51  4  116  6.0   7.5  0.72\n",
            "52  4  118  5.9   8.0  0.72\n",
            "53  4  120  6.0   8.4  0.74\n",
            "54  4  116  6.1   8.5  0.71\n",
            "55  4  116  6.3   7.7  0.72\n",
            "56  4  116  5.9   8.1  0.73\n",
            "57  4  152  6.5   8.5  0.72\n",
            "58  4  118  6.1   8.1  0.70\n",
            "0         apple\n",
            "1         apple\n",
            "2         apple\n",
            "3      mandarin\n",
            "4      mandarin\n",
            "5     mandarin \n",
            "6     mandarin \n",
            "7      mandarin\n",
            "8         apple\n",
            "9         apple\n",
            "10        apple\n",
            "11        apple\n",
            "12        apple\n",
            "13        apple\n",
            "14        apple\n",
            "15        apple\n",
            "16        apple\n",
            "17        apple\n",
            "18        apple\n",
            "19        apple\n",
            "20        apple\n",
            "21        apple\n",
            "22        apple\n",
            "23        apple\n",
            "24       orange\n",
            "25       orange\n",
            "26       orange\n",
            "27       orange\n",
            "28       orange\n",
            "29       orange\n",
            "30       orange\n",
            "31       orange\n",
            "32       orange\n",
            "33       orange\n",
            "34       orange\n",
            "35       orange\n",
            "36       orange\n",
            "37       orange\n",
            "38       orange\n",
            "39       orange\n",
            "40       orange\n",
            "41       orange\n",
            "42       orange\n",
            "43        lemon\n",
            "44        lemon\n",
            "45        lemon\n",
            "46        lemon\n",
            "47        lemon\n",
            "48        lemon\n",
            "49        lemon\n",
            "50        lemon\n",
            "51        lemon\n",
            "52        lemon\n",
            "53        lemon\n",
            "54        lemon\n",
            "55        lemon\n",
            "56        lemon\n",
            "57        lemon\n",
            "58        lemon\n",
            "Name: 5, dtype: object\n"
          ]
        }
      ]
    },
    {
      "cell_type": "code",
      "source": [
        "from sklearn.model_selection import train_test_split\n",
        "X_train,X_test,Y_train,Y_test=train_test_split(features,label,test_size=0.2)"
      ],
      "metadata": {
        "id": "Z3ZLuGIYKYrA"
      },
      "execution_count": 14,
      "outputs": []
    },
    {
      "cell_type": "code",
      "source": [
        "from sklearn.linear_model import LogisticRegression\n",
        "clf=LogisticRegression()\n",
        "clf.fit(X_train,Y_train)"
      ],
      "metadata": {
        "colab": {
          "base_uri": "https://localhost:8080/",
          "height": 233
        },
        "id": "UrAbHm-tK3Y4",
        "outputId": "7f464748-9fc5-4ee5-8c6f-c931ed8649f6"
      },
      "execution_count": 15,
      "outputs": [
        {
          "output_type": "stream",
          "name": "stderr",
          "text": [
            "/usr/local/lib/python3.9/dist-packages/sklearn/linear_model/_logistic.py:458: ConvergenceWarning: lbfgs failed to converge (status=1):\n",
            "STOP: TOTAL NO. of ITERATIONS REACHED LIMIT.\n",
            "\n",
            "Increase the number of iterations (max_iter) or scale the data as shown in:\n",
            "    https://scikit-learn.org/stable/modules/preprocessing.html\n",
            "Please also refer to the documentation for alternative solver options:\n",
            "    https://scikit-learn.org/stable/modules/linear_model.html#logistic-regression\n",
            "  n_iter_i = _check_optimize_result(\n"
          ]
        },
        {
          "output_type": "execute_result",
          "data": {
            "text/plain": [
              "LogisticRegression()"
            ],
            "text/html": [
              "<style>#sk-container-id-1 {color: black;background-color: white;}#sk-container-id-1 pre{padding: 0;}#sk-container-id-1 div.sk-toggleable {background-color: white;}#sk-container-id-1 label.sk-toggleable__label {cursor: pointer;display: block;width: 100%;margin-bottom: 0;padding: 0.3em;box-sizing: border-box;text-align: center;}#sk-container-id-1 label.sk-toggleable__label-arrow:before {content: \"▸\";float: left;margin-right: 0.25em;color: #696969;}#sk-container-id-1 label.sk-toggleable__label-arrow:hover:before {color: black;}#sk-container-id-1 div.sk-estimator:hover label.sk-toggleable__label-arrow:before {color: black;}#sk-container-id-1 div.sk-toggleable__content {max-height: 0;max-width: 0;overflow: hidden;text-align: left;background-color: #f0f8ff;}#sk-container-id-1 div.sk-toggleable__content pre {margin: 0.2em;color: black;border-radius: 0.25em;background-color: #f0f8ff;}#sk-container-id-1 input.sk-toggleable__control:checked~div.sk-toggleable__content {max-height: 200px;max-width: 100%;overflow: auto;}#sk-container-id-1 input.sk-toggleable__control:checked~label.sk-toggleable__label-arrow:before {content: \"▾\";}#sk-container-id-1 div.sk-estimator input.sk-toggleable__control:checked~label.sk-toggleable__label {background-color: #d4ebff;}#sk-container-id-1 div.sk-label input.sk-toggleable__control:checked~label.sk-toggleable__label {background-color: #d4ebff;}#sk-container-id-1 input.sk-hidden--visually {border: 0;clip: rect(1px 1px 1px 1px);clip: rect(1px, 1px, 1px, 1px);height: 1px;margin: -1px;overflow: hidden;padding: 0;position: absolute;width: 1px;}#sk-container-id-1 div.sk-estimator {font-family: monospace;background-color: #f0f8ff;border: 1px dotted black;border-radius: 0.25em;box-sizing: border-box;margin-bottom: 0.5em;}#sk-container-id-1 div.sk-estimator:hover {background-color: #d4ebff;}#sk-container-id-1 div.sk-parallel-item::after {content: \"\";width: 100%;border-bottom: 1px solid gray;flex-grow: 1;}#sk-container-id-1 div.sk-label:hover label.sk-toggleable__label {background-color: #d4ebff;}#sk-container-id-1 div.sk-serial::before {content: \"\";position: absolute;border-left: 1px solid gray;box-sizing: border-box;top: 0;bottom: 0;left: 50%;z-index: 0;}#sk-container-id-1 div.sk-serial {display: flex;flex-direction: column;align-items: center;background-color: white;padding-right: 0.2em;padding-left: 0.2em;position: relative;}#sk-container-id-1 div.sk-item {position: relative;z-index: 1;}#sk-container-id-1 div.sk-parallel {display: flex;align-items: stretch;justify-content: center;background-color: white;position: relative;}#sk-container-id-1 div.sk-item::before, #sk-container-id-1 div.sk-parallel-item::before {content: \"\";position: absolute;border-left: 1px solid gray;box-sizing: border-box;top: 0;bottom: 0;left: 50%;z-index: -1;}#sk-container-id-1 div.sk-parallel-item {display: flex;flex-direction: column;z-index: 1;position: relative;background-color: white;}#sk-container-id-1 div.sk-parallel-item:first-child::after {align-self: flex-end;width: 50%;}#sk-container-id-1 div.sk-parallel-item:last-child::after {align-self: flex-start;width: 50%;}#sk-container-id-1 div.sk-parallel-item:only-child::after {width: 0;}#sk-container-id-1 div.sk-dashed-wrapped {border: 1px dashed gray;margin: 0 0.4em 0.5em 0.4em;box-sizing: border-box;padding-bottom: 0.4em;background-color: white;}#sk-container-id-1 div.sk-label label {font-family: monospace;font-weight: bold;display: inline-block;line-height: 1.2em;}#sk-container-id-1 div.sk-label-container {text-align: center;}#sk-container-id-1 div.sk-container {/* jupyter's `normalize.less` sets `[hidden] { display: none; }` but bootstrap.min.css set `[hidden] { display: none !important; }` so we also need the `!important` here to be able to override the default hidden behavior on the sphinx rendered scikit-learn.org. See: https://github.com/scikit-learn/scikit-learn/issues/21755 */display: inline-block !important;position: relative;}#sk-container-id-1 div.sk-text-repr-fallback {display: none;}</style><div id=\"sk-container-id-1\" class=\"sk-top-container\"><div class=\"sk-text-repr-fallback\"><pre>LogisticRegression()</pre><b>In a Jupyter environment, please rerun this cell to show the HTML representation or trust the notebook. <br />On GitHub, the HTML representation is unable to render, please try loading this page with nbviewer.org.</b></div><div class=\"sk-container\" hidden><div class=\"sk-item\"><div class=\"sk-estimator sk-toggleable\"><input class=\"sk-toggleable__control sk-hidden--visually\" id=\"sk-estimator-id-1\" type=\"checkbox\" checked><label for=\"sk-estimator-id-1\" class=\"sk-toggleable__label sk-toggleable__label-arrow\">LogisticRegression</label><div class=\"sk-toggleable__content\"><pre>LogisticRegression()</pre></div></div></div></div></div>"
            ]
          },
          "metadata": {},
          "execution_count": 15
        }
      ]
    },
    {
      "cell_type": "code",
      "source": [
        "clf.score(X_test,Y_test)"
      ],
      "metadata": {
        "colab": {
          "base_uri": "https://localhost:8080/"
        },
        "id": "7w3RGIh4LV3F",
        "outputId": "a6485fd1-1c5b-454a-d0e3-2289b4a04f2d"
      },
      "execution_count": 16,
      "outputs": [
        {
          "output_type": "execute_result",
          "data": {
            "text/plain": [
              "0.9166666666666666"
            ]
          },
          "metadata": {},
          "execution_count": 16
        }
      ]
    },
    {
      "cell_type": "code",
      "source": [
        "predict=clf.predict([[1,190,8,5.8,0.59]])\n",
        "print(\"\".join(predict))"
      ],
      "metadata": {
        "colab": {
          "base_uri": "https://localhost:8080/"
        },
        "id": "SvXtBcgXLfLT",
        "outputId": "f0027f16-61bb-4e59-aa3e-f4413eabddf2"
      },
      "execution_count": 19,
      "outputs": [
        {
          "output_type": "stream",
          "name": "stdout",
          "text": [
            "orange\n"
          ]
        }
      ]
    }
  ]
}